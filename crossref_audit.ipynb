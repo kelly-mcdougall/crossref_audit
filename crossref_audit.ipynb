{
 "cells": [
  {
   "cell_type": "code",
   "execution_count": 107,
   "metadata": {},
   "outputs": [],
   "source": [
    "import pandas as pd\n",
    "import numpy as np\n",
    "import requests \n",
    "import time"
   ]
  },
  {
   "cell_type": "code",
   "execution_count": 83,
   "metadata": {},
   "outputs": [],
   "source": [
    "df = pd.read_csv('ZiplineLive_titleid_eisbn_doi_sclanding_20191108 2.csv', delimiter='\\t', header=None)"
   ]
  },
  {
   "cell_type": "code",
   "execution_count": 152,
   "metadata": {},
   "outputs": [],
   "source": [
    "df.columns = ['Title_ID', 'ISBN', 'DOI', 'URL']"
   ]
  },
  {
   "cell_type": "code",
   "execution_count": 84,
   "metadata": {},
   "outputs": [],
   "source": [
    "for index, row in df.iterrows():\n",
    "    print(\"{}/{}\".format(index, len(df)))\n",
    "    try:\n",
    "        URL = \"https://api.crossref.org/works?filter=doi:{}\".format(row.DOI)\n",
    "        print(URL)\n",
    "        r = requests.get(url = URL) \n",
    "        data = r.json() \n",
    "        response = data['message']['total-results']\n",
    "        df.loc[index, 'Deposited'] = response\n",
    "    except Exception as e:\n",
    "        print(e)\n",
    "        pass\n",
    "        \n"
   ]
  },
  {
   "cell_type": "code",
   "execution_count": 189,
   "metadata": {},
   "outputs": [],
   "source": [
    "g = df.groupby('Deposited')\n",
    "g['Deposited'].value_counts()\n",
    "\n",
    "not_deposited = df[df['Deposited']==0.0]\n",
    "not_deposited.to_csv('not_deposited.csv')"
   ]
  },
  {
   "cell_type": "code",
   "execution_count": 164,
   "metadata": {},
   "outputs": [],
   "source": [
    "def loop_df():\n",
    "    df_copy['DOI'].apply(func)\n"
   ]
  },
  {
   "cell_type": "code",
   "execution_count": 165,
   "metadata": {},
   "outputs": [],
   "source": [
    "def ping_API(doi):\n",
    "    index = df_copy[df_copy['DOI']==doi].index.item()\n",
    "    print(doi)\n",
    "    print(\"{}/{}\".format(index, len(df_copy)))\n",
    "    \n",
    "    try:\n",
    "        URL = \"https://api.crossref.org/works?filter=doi:{}\".format(doi)\n",
    "        r = requests.get(url = URL) \n",
    "        data = r.json() \n",
    "        response = data['message']['total-results']\n",
    "        df_copy.loc[index, 'Deposited'] = response\n",
    "    except Exception as e:\n",
    "        print(e)\n",
    "        pass\n",
    "    "
   ]
  },
  {
   "cell_type": "code",
   "execution_count": null,
   "metadata": {},
   "outputs": [],
   "source": [
    "loop_df()"
   ]
  },
  {
   "cell_type": "code",
   "execution_count": null,
   "metadata": {},
   "outputs": [],
   "source": [
    "df.equals(df_copy)"
   ]
  }
 ],
 "metadata": {
  "kernelspec": {
   "display_name": "Python 3",
   "language": "python",
   "name": "python3"
  },
  "language_info": {
   "codemirror_mode": {
    "name": "ipython",
    "version": 3
   },
   "file_extension": ".py",
   "mimetype": "text/x-python",
   "name": "python",
   "nbconvert_exporter": "python",
   "pygments_lexer": "ipython3",
   "version": "3.7.5"
  }
 },
 "nbformat": 4,
 "nbformat_minor": 2
}
